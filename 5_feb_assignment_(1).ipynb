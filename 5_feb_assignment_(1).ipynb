{
  "cells": [
    {
      "cell_type": "markdown",
      "metadata": {
        "id": "view-in-github",
        "colab_type": "text"
      },
      "source": [
        "<a href=\"https://colab.research.google.com/github/Sanketgcdr/none/blob/main/5_feb_assignment_(1).ipynb\" target=\"_parent\"><img src=\"https://colab.research.google.com/assets/colab-badge.svg\" alt=\"Open In Colab\"/></a>"
      ]
    },
    {
      "cell_type": "markdown",
      "id": "abcdf6ef",
      "metadata": {
        "id": "abcdf6ef"
      },
      "source": [
        "# Assignment 5 feb"
      ]
    },
    {
      "cell_type": "raw",
      "id": "fecb4cdd",
      "metadata": {
        "id": "fecb4cdd"
      },
      "source": [
        "Q1. Explain Class and Object with respect to Object-Oriented Programming. Give a suitable example.\n"
      ]
    },
    {
      "cell_type": "raw",
      "id": "0b32ded7",
      "metadata": {
        "id": "0b32ded7"
      },
      "source": [
        "To define a class, we use the class keyword, not the def keyword we used to define functions."
      ]
    },
    {
      "cell_type": "code",
      "execution_count": null,
      "id": "b53f125f",
      "metadata": {
        "id": "b53f125f"
      },
      "outputs": [],
      "source": [
        "class car:\n",
        "    def __init__(self,name):\n",
        "        self.name = name\n",
        "    "
      ]
    },
    {
      "cell_type": "raw",
      "id": "a341ed24",
      "metadata": {
        "id": "a341ed24"
      },
      "source": [
        "There is no need to use the new keyword for creating objects in Python. Just use this class constructor"
      ]
    },
    {
      "cell_type": "code",
      "execution_count": null,
      "id": "960d0161",
      "metadata": {
        "id": "960d0161",
        "outputId": "dd820d9d-4ed7-45f9-9aff-f4c07b025048"
      },
      "outputs": [
        {
          "data": {
            "text/plain": [
              "'Tata Punch'"
            ]
          },
          "execution_count": 38,
          "metadata": {},
          "output_type": "execute_result"
        }
      ],
      "source": [
        "suv=car(\"Tata Punch\")\n",
        "suv.name"
      ]
    },
    {
      "cell_type": "raw",
      "id": "af794857",
      "metadata": {
        "id": "af794857"
      },
      "source": [
        "Q2. Name the four pillars of OOPs.\n"
      ]
    },
    {
      "cell_type": "raw",
      "id": "b373b1a6",
      "metadata": {
        "id": "b373b1a6"
      },
      "source": [
        "The four pillars of oops are : \n",
        "\n",
        "1) Polymorphism\n",
        "2) Inheritance\n",
        "3) Encapsulation\n",
        "4) Abstraction"
      ]
    },
    {
      "cell_type": "raw",
      "id": "d316c3e9",
      "metadata": {
        "id": "d316c3e9"
      },
      "source": [
        "Q3. Explain why the __init__() function is used. Give a suitable example.\n"
      ]
    },
    {
      "cell_type": "raw",
      "id": "5a486e70",
      "metadata": {
        "id": "5a486e70"
      },
      "source": [
        "We use the __init__() function to assign values to object properties, or other operations that are necessary to do when \n",
        "the object is being created."
      ]
    },
    {
      "cell_type": "code",
      "execution_count": null,
      "id": "e65f5978",
      "metadata": {
        "id": "e65f5978"
      },
      "outputs": [],
      "source": [
        "# Example\n",
        "\n",
        "class pwskills:\n",
        "  def __init__(self, name, age):\n",
        "    self.name = name\n",
        "    self.age = age"
      ]
    },
    {
      "cell_type": "code",
      "execution_count": null,
      "id": "fd2c22d2",
      "metadata": {
        "id": "fd2c22d2",
        "outputId": "433a28d3-1fe9-4338-ac89-007fefb0e63a"
      },
      "outputs": [
        {
          "name": "stdout",
          "output_type": "stream",
          "text": [
            "subh\n",
            "19\n"
          ]
        }
      ],
      "source": [
        "subh = pwskills(\"subh\",19)\n",
        "\n",
        "print(subh.name)\n",
        "print(subh.age)"
      ]
    },
    {
      "cell_type": "raw",
      "id": "5a79811d",
      "metadata": {
        "id": "5a79811d"
      },
      "source": [
        "Q4. Why self is used in OOPs?\n"
      ]
    },
    {
      "cell_type": "markdown",
      "id": "a17df868",
      "metadata": {
        "id": "a17df868"
      },
      "source": [
        "The self parameter is a reference to the current instance of the class, and it is  used to access variables that belongs \n",
        "to the class. it has to be the first parameter of any function in the class\n",
        "It does not have to be named self , you can call it whatever we like "
      ]
    },
    {
      "cell_type": "raw",
      "id": "f3390b5b",
      "metadata": {
        "id": "f3390b5b"
      },
      "source": [
        "Q5. What is inheritance? Give an example for each type of inheritance."
      ]
    },
    {
      "cell_type": "markdown",
      "source": [
        "Inheritance is defined as the mechanism of inheriting the properties of the base class to the child class. \n",
        "\n",
        "1)Single Inheritance\n",
        "2)Multiple Inheritance\n",
        "3)Hierarchical Inheritance\n",
        "4)Multilevel Inheritance"
      ],
      "metadata": {
        "id": "NibgjPVwfmCZ"
      },
      "id": "NibgjPVwfmCZ"
    }
  ],
  "metadata": {
    "kernelspec": {
      "display_name": "Python 3 (ipykernel)",
      "language": "python",
      "name": "python3"
    },
    "language_info": {
      "codemirror_mode": {
        "name": "ipython",
        "version": 3
      },
      "file_extension": ".py",
      "mimetype": "text/x-python",
      "name": "python",
      "nbconvert_exporter": "python",
      "pygments_lexer": "ipython3",
      "version": "3.9.12"
    },
    "colab": {
      "provenance": [],
      "include_colab_link": true
    }
  },
  "nbformat": 4,
  "nbformat_minor": 5
}