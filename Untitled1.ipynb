{
  "nbformat": 4,
  "nbformat_minor": 0,
  "metadata": {
    "colab": {
      "provenance": [],
      "authorship_tag": "ABX9TyMctVSSvnq//RKo2dBfc6zX",
      "include_colab_link": true
    },
    "kernelspec": {
      "name": "python3",
      "display_name": "Python 3"
    },
    "language_info": {
      "name": "python"
    }
  },
  "cells": [
    {
      "cell_type": "markdown",
      "metadata": {
        "id": "view-in-github",
        "colab_type": "text"
      },
      "source": [
        "<a href=\"https://colab.research.google.com/github/Sanketgcdr/Assignment-2-30-jan-/blob/main/Untitled1.ipynb\" target=\"_parent\"><img src=\"https://colab.research.google.com/assets/colab-badge.svg\" alt=\"Open In Colab\"/></a>"
      ]
    },
    {
      "cell_type": "markdown",
      "source": [
        "### **Assignment** **2**"
      ],
      "metadata": {
        "id": "xtERlfCwtQjA"
      }
    },
    {
      "cell_type": "markdown",
      "source": [
        "1. Write a program to accept percentage from the user and display the grade according to the following criteria"
      ],
      "metadata": {
        "id": "ng97PsRPsT2K"
      }
    },
    {
      "cell_type": "code",
      "source": [
        "Percentage = int(input(\"Enter the Percentage of user \"))\n",
        "\n",
        "if Percentage > 90 :\n",
        "    print(\"Grade : A\")\n",
        "elif Percentage >80 and Percentage <= 90 :\n",
        "    print(\"Grade : B\")\n",
        "elif Percentage >=60 and Percentage <= 80 :\n",
        "    print(\"Grade : C\")\n",
        "else :\n",
        "    print(\"Grade : D\")"
      ],
      "metadata": {
        "colab": {
          "base_uri": "https://localhost:8080/"
        },
        "id": "BDDjWcC_sM_Y",
        "outputId": "46ff7c8d-84ef-4f97-fcdb-15a98c75f087"
      },
      "execution_count": null,
      "outputs": [
        {
          "output_type": "stream",
          "name": "stdout",
          "text": [
            "Enter the Percentage of user 76\n",
            "Grade : C\n"
          ]
        }
      ]
    },
    {
      "cell_type": "markdown",
      "source": [
        "2) Write a program to accept the cost price of a bike and display the road tax to pay according to the following criteria"
      ],
      "metadata": {
        "id": "SroEyPdWs84a"
      }
    },
    {
      "cell_type": "code",
      "source": [
        "Cost_price = int(input(\"Enter the cost price of bike : \"))\n",
        "\n",
        "if Cost_price > 100000 :\n",
        "  print(\"The Road Tax to be paid : 15%\")\n",
        "elif Cost_price >50000 and Cost_price  <= 100000 :\n",
        "  print(\"The Road Tax to be paid : 10%\")\n",
        "else :\n",
        "      print(\"The Road Tax to be paid : 5%\")\n"
      ],
      "metadata": {
        "colab": {
          "base_uri": "https://localhost:8080/"
        },
        "id": "wnL6eemYtPIZ",
        "outputId": "6fef198e-838d-4800-9014-63b72b1ee8b3"
      },
      "execution_count": null,
      "outputs": [
        {
          "output_type": "stream",
          "name": "stdout",
          "text": [
            "Enter the cost price of bike : 95000\n",
            "The Road Tax to be paid : 10%\n"
          ]
        }
      ]
    },
    {
      "cell_type": "markdown",
      "source": [
        "3) Accept any city from the user and display monument of the city "
      ],
      "metadata": {
        "id": "tk4q00rivKVl"
      }
    },
    {
      "cell_type": "markdown",
      "source": [
        "following citys are required to entered by the user to get  desired \n",
        "output from assignment :  Delhi , Agra , Jaipur "
      ],
      "metadata": {
        "id": "wSPrajZzvdhv"
      }
    },
    {
      "cell_type": "code",
      "source": [
        "city = input(\"Enter the name of city : \")\n",
        "if city == \"Delhi\" :\n",
        "  print (\"Monument : Red Fort\")\n",
        "elif city == \"Agra\" :\n",
        "  print(\"Monument : Taj Mahal\")\n",
        "elif city == \"Jaipur\" :\n",
        "  print(\"Monument : Jal Mahal\")  \n",
        "else :\n",
        "  print(\"invalid input\")  \n",
        "\n",
        "\n"
      ],
      "metadata": {
        "colab": {
          "base_uri": "https://localhost:8080/"
        },
        "id": "M0F2Eq_evYgw",
        "outputId": "6f1ca7ba-e49d-48a7-c551-f008036f5474"
      },
      "execution_count": null,
      "outputs": [
        {
          "output_type": "stream",
          "name": "stdout",
          "text": [
            "Enter the name of city : Delhi\n",
            "Monument : Red Fort\n"
          ]
        }
      ]
    },
    {
      "cell_type": "markdown",
      "source": [
        "4) Check how many times a given number can be divided by 3 before it is less than or equal to     10"
      ],
      "metadata": {
        "id": "8WOk7bluy3J2"
      }
    },
    {
      "cell_type": "code",
      "source": [
        "count = 0\n",
        "number = int(input(\"Enter the number : \"))\n",
        "while number > 10:\n",
        "    # divide number by 3\n",
        "    number = number / 3\n",
        "    # increase count\n",
        "    count = count + 1\n",
        "print( count , \" times a given number can be divided by 3 before it is less than or equal to 10\")\n",
        "\n",
        "\n"
      ],
      "metadata": {
        "id": "Rrvp8GvvyZuh",
        "colab": {
          "base_uri": "https://localhost:8080/"
        },
        "outputId": "83366bcb-9c4a-412b-cfe0-3750f4cdc432"
      },
      "execution_count": 11,
      "outputs": [
        {
          "output_type": "stream",
          "name": "stdout",
          "text": [
            "Enter the number : 900\n",
            "5  times a given number can be divided by 3 before it is less than or equal to 10\n"
          ]
        }
      ]
    },
    {
      "cell_type": "markdown",
      "source": [
        "5) Why and when we use while loop in python give a detail description with example\n",
        "\n",
        "\n",
        "\n",
        "----->\n",
        " The while loop used in  the Python program to repeat a set of operations while a particular condition is true. When the condition becomes false, execution comes out of the loop immediately, and the first statement after the while loop is executed. A while loop is a part of a control flow statement.\n",
        "\n",
        "We use a while loop when the number of iteration is not known beforehand. \n",
        "\n",
        "**For example :**\n",
        "\n",
        "if you want to ask a user to guess your luck number between 1 and 10, we don’t know how many attempts the user may need to guess the correct number. In such cases, use a while loop.\n"
      ],
      "metadata": {
        "id": "TMvRiBgK0Pxg"
      }
    },
    {
      "cell_type": "markdown",
      "source": [
        "6) Use Nested while loop to print 3 different patterns"
      ],
      "metadata": {
        "id": "VB7ZRik13Um3"
      }
    },
    {
      "cell_type": "code",
      "source": [
        "rows = 5\n",
        "i = 1\n",
        "while i <= rows:\n",
        "    j = 1\n",
        "    while j <= i:\n",
        "        print((i), end=\" \")\n",
        "        j = j + 1\n",
        "    i = i + 1\n",
        "    print('')\n"
      ],
      "metadata": {
        "colab": {
          "base_uri": "https://localhost:8080/"
        },
        "id": "9p2lTEnm3UAS",
        "outputId": "f8e15b37-864e-4185-dd44-3e0e0b47bbdb"
      },
      "execution_count": 17,
      "outputs": [
        {
          "output_type": "stream",
          "name": "stdout",
          "text": [
            "1 \n",
            "2 2 \n",
            "3 3 3 \n",
            "4 4 4 4 \n",
            "5 5 5 5 5 \n"
          ]
        }
      ]
    },
    {
      "cell_type": "code",
      "source": [
        "rows = 5\n",
        "i = 1\n",
        "while i <= rows:\n",
        "    j = 1\n",
        "    while j <= i:\n",
        "        print((i*2), end=\" \")\n",
        "        j = j + 1\n",
        "    i = i + 1\n",
        "    print('')\n"
      ],
      "metadata": {
        "colab": {
          "base_uri": "https://localhost:8080/"
        },
        "outputId": "ef0bac31-023f-4d3a-f5ff-2fa39ffe2376",
        "id": "jHs4asB25R4K"
      },
      "execution_count": 18,
      "outputs": [
        {
          "output_type": "stream",
          "name": "stdout",
          "text": [
            "2 \n",
            "4 4 \n",
            "6 6 6 \n",
            "8 8 8 8 \n",
            "10 10 10 10 10 \n"
          ]
        }
      ]
    },
    {
      "cell_type": "code",
      "source": [],
      "metadata": {
        "id": "tnkLMa4C5X3A"
      },
      "execution_count": null,
      "outputs": []
    },
    {
      "cell_type": "code",
      "source": [
        "rows = 5\n",
        "i = 1\n",
        "while i <= rows:\n",
        "    j = 1\n",
        "    while j <= i:\n",
        "        print((\"*\"), end = \" \")\n",
        "        j = j + 1\n",
        "    i = i + 1\n",
        "    print('')\n"
      ],
      "metadata": {
        "colab": {
          "base_uri": "https://localhost:8080/"
        },
        "outputId": "7ae9b702-5d0d-40d3-a9a3-4edcb1d9b385",
        "id": "g5rJSMIG5Yuk"
      },
      "execution_count": 22,
      "outputs": [
        {
          "output_type": "stream",
          "name": "stdout",
          "text": [
            "* \n",
            "* * \n",
            "* * * \n",
            "* * * * \n",
            "* * * * * \n"
          ]
        }
      ]
    },
    {
      "cell_type": "markdown",
      "source": [
        "7) Reverse while loop to display number from 10 to 1"
      ],
      "metadata": {
        "id": "28Yy6lJn5uYR"
      }
    },
    {
      "cell_type": "code",
      "source": [
        "i = 10 \n",
        "while i >= 0 :\n",
        "  print(i, end = \" \")\n",
        "  i -=1"
      ],
      "metadata": {
        "colab": {
          "base_uri": "https://localhost:8080/"
        },
        "id": "y2Q1UoQQ5fvY",
        "outputId": "3b0bd7fa-ec78-49b4-906e-017087e750c8"
      },
      "execution_count": 31,
      "outputs": [
        {
          "output_type": "stream",
          "name": "stdout",
          "text": [
            "10 9 8 7 6 5 4 3 2 1 0 "
          ]
        }
      ]
    },
    {
      "cell_type": "markdown",
      "source": [],
      "metadata": {
        "id": "JvBXtUKx7aiJ"
      }
    },
    {
      "cell_type": "markdown",
      "source": [
        "8) Reverse while loop to display number from 50 to 1  \n",
        "\n",
        "\n",
        "\n",
        "\n",
        ">   Both question no 7 and 8 same  in assignment so i make some changes in question 8\n",
        "\n",
        "\n",
        "\n",
        "\n",
        "\n",
        "\n"
      ],
      "metadata": {
        "id": "DImAVuPj6vgR"
      }
    },
    {
      "cell_type": "code",
      "source": [
        "# reverse while loop\n",
        "i = 50\n",
        "while i >= 0:\n",
        "    print(i, end=' ')\n",
        "    i = i - 1"
      ],
      "metadata": {
        "colab": {
          "base_uri": "https://localhost:8080/"
        },
        "id": "Lu_hNsf96GrO",
        "outputId": "9406c0b9-31ea-4903-84f6-a558b2da77bf"
      },
      "execution_count": 32,
      "outputs": [
        {
          "output_type": "stream",
          "name": "stdout",
          "text": [
            "50 49 48 47 46 45 44 43 42 41 40 39 38 37 36 35 34 33 32 31 30 29 28 27 26 25 24 23 22 21 20 19 18 17 16 15 14 13 12 11 10 9 8 7 6 5 4 3 2 1 0 "
          ]
        }
      ]
    },
    {
      "cell_type": "code",
      "source": [],
      "metadata": {
        "id": "rKtIKTvX7nyO"
      },
      "execution_count": null,
      "outputs": []
    }
  ]
}