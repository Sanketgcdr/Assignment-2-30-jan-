{
  "nbformat": 4,
  "nbformat_minor": 0,
  "metadata": {
    "colab": {
      "provenance": [],
      "authorship_tag": "ABX9TyMT1tJQ+xkr65+asW5wqnRx",
      "include_colab_link": true
    },
    "kernelspec": {
      "name": "python3",
      "display_name": "Python 3"
    },
    "language_info": {
      "name": "python"
    }
  },
  "cells": [
    {
      "cell_type": "markdown",
      "metadata": {
        "id": "view-in-github",
        "colab_type": "text"
      },
      "source": [
        "<a href=\"https://colab.research.google.com/github/Sanketgcdr/none/blob/main/Assignment_8_Feb.ipynb\" target=\"_parent\"><img src=\"https://colab.research.google.com/assets/colab-badge.svg\" alt=\"Open In Colab\"/></a>"
      ]
    },
    {
      "cell_type": "markdown",
      "source": [
        "Q1. What is Abstraction in OOps? Explain with an example.\n",
        "\n",
        "Abstraction In OOP : In simple terms, abstraction “displays” only the relevant attributes of objects and “hides” the unnecessary details.\n",
        "For example, when we are driving a car, we are only concerned about driving the car like start/stop the car, accelerate/ break, etc"
      ],
      "metadata": {
        "id": "01cVIBR8TQTn"
      }
    },
    {
      "cell_type": "markdown",
      "source": [
        "Q2. Differentiate between Abstraction and Encapsulation. Explain with an example.\n",
        "\n",
        "#Abstraction\n",
        "\n",
        "Abstraction is the process or method of gaining the information.\t\n",
        "In abstraction, problems are solved at the design or interface level.\n",
        "Abstraction is the method of hiding the unwanted information.\n",
        "We can implement abstraction using abstract class and interfaces.\n",
        "In abstraction, implementation complexities are hidden using abstract classes and interfaces.\n",
        "Abstraction provides access to specific part of data.\n",
        "Abstraction focus is on what should be done.\n",
        "For example, when we are driving a car, we are only concerned about driving the car like start/stop the car, accelerate/ break, etc\n",
        "\n",
        "#Encapsulation\n",
        "\n",
        "Encapsulation is the process or method to contain the information.\n",
        "In encapsulation, problems are solved at the implementation level.       \n",
        "Encapsulation is a method to hide the data in a single entity or unit along with a method to protect information from outside.\n",
        "Encapsulation can be implemented using by access modifier i.e. private, protected and public.\n",
        "In encapsulation, the data is hidden using methods of getters and setters.\n",
        "Encapsulation hides data and the user can not access same directly data hiding.\n",
        "Encapsulation focus is on “How” it should be done."
      ],
      "metadata": {
        "id": "DApYvgS5TXSX"
      }
    },
    {
      "cell_type": "markdown",
      "source": [
        "Q3. What is abc module in python? Why is it used?\n",
        "\n",
        "The abc module in Python stands for \"Abstract Base Classes\". It provides a way to define abstract classes in Python that cannot be instantiated directly, but can only be subclassed.The 'abc' module in Python library provides the infrastructure for defining custom abstract base classes. 'abc' works by marking methods of the base class as abstract. This is done by @absttractmethod decorator. \n",
        "\n",
        "\n",
        "The abc module is used in Python for a few different reasons:\n",
        "\n",
        "To define interfaces,\n",
        "To enforce class hierarchies,\n",
        "To provide a framework for plug-ins."
      ],
      "metadata": {
        "id": "QsplFR1GTftf"
      }
    },
    {
      "cell_type": "markdown",
      "source": [
        "Q4. How can we achieve data abstraction?\n",
        "\n",
        "In Python, we can achieve data abstraction through the use of classes and object-oriented programming (OOP) concepts. Abstraction is a technique in OOP that allows us to hide the implementation details of a class from the outside world, and only expose a simplified interface that can be used to interact with the object.\n",
        "\n",
        "For example "
      ],
      "metadata": {
        "id": "2JI6SYujTsKe"
      }
    },
    {
      "cell_type": "code",
      "source": [
        "class BankAccount:\n",
        "    def __init__(self, balance):\n",
        "        self.balance = balance\n",
        "\n",
        "    def deposit(self, amount):\n",
        "        self.balance += amount\n",
        "\n",
        "    def withdraw(self, amount):\n",
        "        if amount > self.balance:\n",
        "            print(\"Insufficient balance\")\n",
        "        else:\n",
        "            self.balance -= amount\n",
        "\n",
        "    def get_balance(self):\n",
        "        return self.balance\n"
      ],
      "metadata": {
        "id": "YeqVATtHTWft"
      },
      "execution_count": 1,
      "outputs": []
    },
    {
      "cell_type": "markdown",
      "source": [
        "Q5. Can we create an instance of an abstract class? Explain your answer.\n",
        "\n",
        "No, we cannot create an instance of an abstract class in Python. An abstract class is a class that cannot be instantiated directly, because it is meant to be subclassed and provide a blueprint for other classes to follow.\n",
        "Abstract classes are designed to define a set of methods that must be implemented by their subclasses, but they do not provide an implementation for these methods themselves. This means that an abstract class is incomplete and cannot be used directly."
      ],
      "metadata": {
        "id": "4KWmXAIgTyS7"
      }
    },
    {
      "cell_type": "code",
      "source": [],
      "metadata": {
        "id": "BFe2GzRuTvp4"
      },
      "execution_count": null,
      "outputs": []
    }
  ]
}